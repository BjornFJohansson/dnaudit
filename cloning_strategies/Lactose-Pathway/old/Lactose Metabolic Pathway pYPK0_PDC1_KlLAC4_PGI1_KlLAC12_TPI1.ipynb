{
 "cells": [
  {
   "cell_type": "markdown",
   "metadata": {},
   "source": [
    "# Assembly of the Lactose Metabolic Pathway pYPK0_PDC1_KlLAC4_PGI1_KlLAC12_TPI1"
   ]
  },
  {
   "cell_type": "markdown",
   "metadata": {},
   "source": [
    "The first thing to do is importing pydna and setting an email address for using NCBI web services. If you execute this notebook, make sure to change the email address to your own. NCBI terms of service require them to have an active email address for communicating with their users."
   ]
  },
  {
   "cell_type": "code",
   "execution_count": 1,
   "metadata": {
    "collapsed": false
   },
   "outputs": [],
   "source": [
    "import pydna\n",
    "gb = pydna.Genbank(\"myemail@myemail.com\")"
   ]
  },
  {
   "cell_type": "markdown",
   "metadata": {},
   "source": [
    "Fetch the Genbank file where Kluyveromyces LAC4 gene is contained."
   ]
  },
  {
   "cell_type": "code",
   "execution_count": 2,
   "metadata": {
    "collapsed": false
   },
   "outputs": [
    {
     "data": {
      "text/html": [
       "<a href='https://www.ncbi.nlm.nih.gov/nuccore/M84410?from=&to=&strand=1' target='_blank'>M84410</a>"
      ],
      "text/plain": [
       "Gbank(M84410)(-3703)"
      ]
     },
     "execution_count": 2,
     "metadata": {},
     "output_type": "execute_result"
    }
   ],
   "source": [
    "lac4 = gb.nucleotide(\"M84410\")\n",
    "lac4"
   ]
  },
  {
   "cell_type": "markdown",
   "metadata": {},
   "source": [
    "The sequence we fetched is linear and 3703 bp long. We can list the features with the list_features method."
   ]
  },
  {
   "cell_type": "code",
   "execution_count": 3,
   "metadata": {
    "collapsed": false
   },
   "outputs": [
    {
     "data": {
      "text/plain": [
       "+----------+-----------+-------+------+--------+--------------+------------+------+\n",
       "| Feature# | Direction | Start | End  | Length | id           | type       | orf? |\n",
       "+----------+-----------+-------+------+--------+--------------+------------+------+\n",
       "| 0        |    -->    |   0   | 3703 |   3703 | <unknown id> | source     |  no  |\n",
       "| 1        |    -->    |   8   | 3406 |   3398 | <unknown id> | gene       |  no  |\n",
       "| 2        |    -->    |   8   |  12  |      4 | <unknown id> | regulatory |  no  |\n",
       "| 3        |    -->    |   42  | 3120 |   3078 | <unknown id> | CDS        | yes  |\n",
       "| 4        |    -->    |  3400 | 3406 |      6 | <unknown id> | regulatory |  no  |\n",
       "+----------+-----------+-------+------+--------+--------------+------------+------+"
      ]
     },
     "execution_count": 3,
     "metadata": {},
     "output_type": "execute_result"
    }
   ],
   "source": [
    "lac4.list_features()"
   ]
  },
  {
   "cell_type": "markdown",
   "metadata": {},
   "source": [
    "The feature table shows that the feature number three is of type Coding sequence (CDS) and is an ORF (Open Reading Frame). This feature starts at position 42 and ends at 3120. We can extract this sequence by referring the the feature number in the leftmost column. "
   ]
  },
  {
   "cell_type": "code",
   "execution_count": 4,
   "metadata": {
    "collapsed": false
   },
   "outputs": [
    {
     "data": {
      "text/html": [
       "<a href='https://www.ncbi.nlm.nih.gov/nuccore/M84410?from=&to=&strand=1' target='_blank'>M84410</a>"
      ],
      "text/plain": [
       "Gbank(M84410)(-3078)"
      ]
     },
     "execution_count": 4,
     "metadata": {},
     "output_type": "execute_result"
    }
   ],
   "source": [
    "lac4_orf=lac4.extract_feature(3)\n",
    "lac4_orf"
   ]
  },
  {
   "cell_type": "markdown",
   "metadata": {},
   "source": [
    "Lets make sure this feature is a complete open reading frame in the correct orientation. The isorf method returns True if the Dseqrecord contains an open reading frame."
   ]
  },
  {
   "cell_type": "code",
   "execution_count": 5,
   "metadata": {
    "collapsed": false
   },
   "outputs": [
    {
     "data": {
      "text/plain": [
       "True"
      ]
     },
     "execution_count": 5,
     "metadata": {},
     "output_type": "execute_result"
    }
   ],
   "source": [
    "lac4_orf.isorf()"
   ]
  },
  {
   "cell_type": "markdown",
   "metadata": {},
   "source": [
    "Lets make sure the ORF encodes the protein we want. We can do this by making a protein BLAST with the translated sequence against the NCBI database."
   ]
  },
  {
   "cell_type": "code",
   "execution_count": 6,
   "metadata": {
    "collapsed": false
   },
   "outputs": [],
   "source": [
    "lac4p = lac4_orf.seq.translate(cds=True)"
   ]
  },
  {
   "cell_type": "markdown",
   "metadata": {},
   "source": [
    "The translate method returns lac4p which is a Biopython Bio.Seq object containing the sequence."
   ]
  },
  {
   "cell_type": "markdown",
   "metadata": {},
   "source": [
    "The Biopython package provide functions for remote BLAST in the NCBIWWW and NCBIXML modules."
   ]
  },
  {
   "cell_type": "code",
   "execution_count": 7,
   "metadata": {
    "collapsed": false
   },
   "outputs": [],
   "source": [
    "from Bio.Blast import NCBIWWW, NCBIXML"
   ]
  },
  {
   "cell_type": "code",
   "execution_count": 8,
   "metadata": {
    "collapsed": false
   },
   "outputs": [
    {
     "data": {
      "text/html": [
       "<a href='https://www.ncbi.nlm.nih.gov/nuccore/M84410?from=&to=&strand=1' target='_blank'>M84410</a>"
      ],
      "text/plain": [
       "Gbank(M84410)(-3703)"
      ]
     },
     "execution_count": 8,
     "metadata": {},
     "output_type": "execute_result"
    }
   ],
   "source": [
    "lac4"
   ]
  },
  {
   "cell_type": "code",
   "execution_count": 9,
   "metadata": {
    "collapsed": false
   },
   "outputs": [],
   "source": [
    "#result_handle = NCBIWWW.qblast(\"blastp\", \"nr\", str(lac4p), hitlist_size=10)\n",
    "#lac4_blast_records = NCBIXML.parse(result_handle)\n",
    "#best_lac4_hit = next(lac4_blast_records)\n",
    "#best_lac4_align = best_lac4_hit.alignments[0]"
   ]
  },
  {
   "cell_type": "markdown",
   "metadata": {},
   "source": [
    "The cell above fetches the 10 best BLAST hits from genbank. We take the first one wich seems to be a perfect match. See the [Biopython cookbook](http://biopython.org/DIST/docs/tutorial/Tutorial.html) for information on remote BLAST. The pydna.eq function returns True for identical sequences. The cells below shows that our translated protein sequence is the same as a Protein record in Genbank."
   ]
  },
  {
   "cell_type": "code",
   "execution_count": 10,
   "metadata": {
    "collapsed": false
   },
   "outputs": [],
   "source": [
    "#pydna.eq(lac4p, best_lac4_align.hsps[0].match)"
   ]
  },
  {
   "cell_type": "code",
   "execution_count": 11,
   "metadata": {
    "collapsed": false
   },
   "outputs": [],
   "source": [
    "#print(best_lac4_align.title)"
   ]
  },
  {
   "cell_type": "markdown",
   "metadata": {},
   "source": [
    "It appears to be the correct sequence, we can easily create a dynamic link to the web page of the protein."
   ]
  },
  {
   "cell_type": "code",
   "execution_count": 12,
   "metadata": {
    "collapsed": false
   },
   "outputs": [],
   "source": [
    "#print(\"http://www.ncbi.nlm.nih.gov/protein/\"+best_lac4_align.accession)"
   ]
  },
  {
   "cell_type": "markdown",
   "metadata": {},
   "source": [
    "The strategy is to isolate this open reading frame by PCR for which we need primers. We can design PCR primers using the cloning_primers function."
   ]
  },
  {
   "cell_type": "code",
   "execution_count": 13,
   "metadata": {
    "collapsed": false
   },
   "outputs": [
    {
     "data": {
      "text/plain": [
       "(fw3078 19-mer:5'AAATGTCTTGCCTTATTCC-3', rv3078 18-mer:5'TTATTCAAAAGCGAGATC-3')"
      ]
     },
     "execution_count": 13,
     "metadata": {},
     "output_type": "execute_result"
    }
   ],
   "source": [
    "pydna.cloning_primers( lac4_orf, fp_tail=\"AA\")"
   ]
  },
  {
   "cell_type": "markdown",
   "metadata": {},
   "source": [
    "Slightly longer primers were bought later"
   ]
  },
  {
   "cell_type": "code",
   "execution_count": 14,
   "metadata": {
    "collapsed": false
   },
   "outputs": [],
   "source": [
    "LAC4_CDS_f, LAC4_CDS_r = pydna.parse('''\n",
    ">757_KlLAC4_fw (21-mer)\n",
    "aaatgtcttgccttattcctg\n",
    "\n",
    ">758_KlLAC4_rv (20-mer)\n",
    "ttattcaaaagcgagatcaa''', ds=False)"
   ]
  },
  {
   "cell_type": "markdown",
   "metadata": {},
   "source": [
    "The forward primer is given an extra two adenines in front of the start codon as this may improve expression in Saccharomyces cerevisiae. This is dine by specifying a tail for the forward primer using the fp_tail keyword. We can inspect the sequence of the Primers which are Biopython Bio.SeqRecord objects."
   ]
  },
  {
   "cell_type": "code",
   "execution_count": 15,
   "metadata": {
    "collapsed": false
   },
   "outputs": [
    {
     "name": "stdout",
     "output_type": "stream",
     "text": [
      "aaatgtcttgccttattcctg\n"
     ]
    }
   ],
   "source": [
    "print(LAC4_CDS_f.seq)"
   ]
  },
  {
   "cell_type": "code",
   "execution_count": 16,
   "metadata": {
    "collapsed": false
   },
   "outputs": [
    {
     "name": "stdout",
     "output_type": "stream",
     "text": [
      "ttattcaaaagcgagatcaa\n"
     ]
    }
   ],
   "source": [
    "print(LAC4_CDS_r.seq)"
   ]
  },
  {
   "cell_type": "markdown",
   "metadata": {},
   "source": [
    " We amplify the LAC4 gene using the new primers using the pcr function."
   ]
  },
  {
   "cell_type": "code",
   "execution_count": 17,
   "metadata": {
    "collapsed": false
   },
   "outputs": [],
   "source": [
    "LAC4_prd = pydna.pcr(LAC4_CDS_f, LAC4_CDS_r, lac4)"
   ]
  },
  {
   "cell_type": "markdown",
   "metadata": {},
   "source": [
    "The PCR product is two basepairs longer than the open reading frame as expected."
   ]
  },
  {
   "cell_type": "code",
   "execution_count": 18,
   "metadata": {
    "collapsed": false
   },
   "outputs": [
    {
     "data": {
      "text/html": [
       "Amplicon(3080)"
      ],
      "text/plain": [
       "Amplicon(3080)"
      ]
     },
     "execution_count": 18,
     "metadata": {},
     "output_type": "execute_result"
    }
   ],
   "source": [
    "LAC4_prd"
   ]
  },
  {
   "cell_type": "markdown",
   "metadata": {},
   "source": [
    "We will use the pYPKa vector to clone the PCR products. This is a derivative of the [pCAPs](http://www.ncbi.nlm.nih.gov/nuccore/NC_025010.1) vector. The pYPKa vector is not yet available from Genbank, but it was made with site directed mutagenesis through inverse PCR. The pYPKa has a [AjjI](http://rebase.neb.com/rebase/enz/AjiI.html \"AjiI at rebase\") site that is not present in pCAPs. The cell below simulates the contruction of pYPKa from pCAPs. "
   ]
  },
  {
   "cell_type": "code",
   "execution_count": 19,
   "metadata": {
    "collapsed": false
   },
   "outputs": [],
   "source": [
    "pYPKa = pydna.read(\"pYPKa.gb\")"
   ]
  },
  {
   "cell_type": "markdown",
   "metadata": {},
   "source": [
    "We will use the AjiI site to clone the LAC4 PCR product. pYPK_A is the linear pYPK vector."
   ]
  },
  {
   "cell_type": "code",
   "execution_count": 20,
   "metadata": {
    "collapsed": false
   },
   "outputs": [],
   "source": [
    "from Bio.Restriction import AjiI\n",
    "pYPKa_A = pYPKa.linearize(AjiI)"
   ]
  },
  {
   "cell_type": "markdown",
   "metadata": {},
   "source": [
    "pYPKa_A_LAC4 is the resulting LAC4 vector"
   ]
  },
  {
   "cell_type": "code",
   "execution_count": 21,
   "metadata": {
    "collapsed": false
   },
   "outputs": [],
   "source": [
    "pYPKa_A_LAC4 = (pYPKa_A + LAC4_prd).looped().synced(pYPKa)"
   ]
  },
  {
   "cell_type": "markdown",
   "metadata": {},
   "source": [
    "We will make a similar vector for the LAC12 gene using a similar strategy. We fetch the LAC12 gene from genbank:"
   ]
  },
  {
   "cell_type": "code",
   "execution_count": 22,
   "metadata": {
    "collapsed": false
   },
   "outputs": [
    {
     "data": {
      "text/html": [
       "<a href='https://www.ncbi.nlm.nih.gov/nuccore/X06997?from=&to=&strand=1' target='_blank'>X06997</a>"
      ],
      "text/plain": [
       "Gbank(X06997)(-7127)"
      ]
     },
     "execution_count": 22,
     "metadata": {},
     "output_type": "execute_result"
    }
   ],
   "source": [
    "lac12 = gb.nucleotide(\"X06997\")\n",
    "lac12"
   ]
  },
  {
   "cell_type": "markdown",
   "metadata": {},
   "source": [
    "This Genbank record is alslo longer than the gene we need. The ORF is marked among the features of the Genbank file."
   ]
  },
  {
   "cell_type": "code",
   "execution_count": 23,
   "metadata": {
    "collapsed": false
   },
   "outputs": [
    {
     "data": {
      "text/plain": [
       "+----------+-----------+-------+------+--------+--------------+---------------+------+\n",
       "| Feature# | Direction | Start | End  | Length | id           | type          | orf? |\n",
       "+----------+-----------+-------+------+--------+--------------+---------------+------+\n",
       "| 0        |    -->    |   0   | 7127 |   7127 | <unknown id> | source        |  no  |\n",
       "| 1        |    -->    |  990  | 1007 |     17 | <unknown id> | misc_feature  |  no  |\n",
       "| 2        |    -->    | <1484 | 1485 |      1 | <unknown id> | precursor_RNA |  no  |\n",
       "| 3        |    -->    | <1488 | 1489 |      1 | <unknown id> | precursor_RNA |  no  |\n",
       "| 4        |    -->    | <1493 | 1494 |      1 | <unknown id> | precursor_RNA |  no  |\n",
       "| 5        |    -->    | <1495 | 1496 |      1 | <unknown id> | precursor_RNA |  no  |\n",
       "| 6        |    -->    |  1615 | 3379 |   1764 | <unknown id> | CDS           | yes  |\n",
       "| 7        |    -->    | <3948 | 5217 |   1269 | <unknown id> | CDS           |  no  |\n",
       "+----------+-----------+-------+------+--------+--------------+---------------+------+"
      ]
     },
     "execution_count": 23,
     "metadata": {},
     "output_type": "execute_result"
    }
   ],
   "source": [
    "lac12.list_features()"
   ]
  },
  {
   "cell_type": "markdown",
   "metadata": {},
   "source": [
    "The CDS number six seems to be a good candidate since it is of type CDS and it contains and ORF."
   ]
  },
  {
   "cell_type": "code",
   "execution_count": 24,
   "metadata": {
    "collapsed": false
   },
   "outputs": [],
   "source": [
    "lac12_orf = lac12.extract_feature(6)"
   ]
  },
  {
   "cell_type": "code",
   "execution_count": 25,
   "metadata": {
    "collapsed": false
   },
   "outputs": [
    {
     "data": {
      "text/plain": [
       "True"
      ]
     },
     "execution_count": 25,
     "metadata": {},
     "output_type": "execute_result"
    }
   ],
   "source": [
    "lac12_orf.isorf()"
   ]
  },
  {
   "cell_type": "markdown",
   "metadata": {},
   "source": [
    "We BLAST the lac12 protein sequence in the same way as the LAC4 gene."
   ]
  },
  {
   "cell_type": "code",
   "execution_count": 26,
   "metadata": {
    "collapsed": false
   },
   "outputs": [],
   "source": [
    "lac12p = lac12_orf.seq.translate(cds=True)"
   ]
  },
  {
   "cell_type": "code",
   "execution_count": 27,
   "metadata": {
    "collapsed": false
   },
   "outputs": [],
   "source": [
    "#from Bio.Blast import NCBIWWW, NCBIXML\n",
    "#result_handle = NCBIWWW.qblast(\"blastp\", \"nr\", lac12p, hitlist_size=3, ncbi_gi=True)\n",
    "#blast_records = NCBIXML.parse(result_handle)\n",
    "#best_lac12_hit = next(blast_records)\n",
    "#best_lac12_align = best_lac12_hit.alignments[0]"
   ]
  },
  {
   "cell_type": "code",
   "execution_count": 28,
   "metadata": {
    "collapsed": false
   },
   "outputs": [],
   "source": [
    "#print(best_lac12_align.title)"
   ]
  },
  {
   "cell_type": "code",
   "execution_count": 29,
   "metadata": {
    "collapsed": false
   },
   "outputs": [],
   "source": [
    "#print(\"http://www.ncbi.nlm.nih.gov/protein/\"+best_lac12_align.accession)"
   ]
  },
  {
   "cell_type": "code",
   "execution_count": 30,
   "metadata": {
    "collapsed": false
   },
   "outputs": [],
   "source": [
    "#pydna.eq(lac12p, best_lac12_align.hsps[0].match)"
   ]
  },
  {
   "cell_type": "code",
   "execution_count": 31,
   "metadata": {
    "collapsed": false
   },
   "outputs": [],
   "source": [
    "LAC12_CDS_f, LAC12_CDS_r = pydna.cloning_primers(lac12_orf, fp_tail=\"AA\")"
   ]
  },
  {
   "cell_type": "code",
   "execution_count": 32,
   "metadata": {
    "collapsed": false
   },
   "outputs": [
    {
     "data": {
      "text/plain": [
       "(fw1764 18-mer:5'AAATGGCAGATCATTCGA-3', rv1764 18-mer:5'TTAAACAGATTCTGCCTC-3')"
      ]
     },
     "execution_count": 32,
     "metadata": {},
     "output_type": "execute_result"
    }
   ],
   "source": [
    "LAC12_CDS_f, LAC12_CDS_r"
   ]
  },
  {
   "cell_type": "code",
   "execution_count": 33,
   "metadata": {
    "collapsed": true
   },
   "outputs": [],
   "source": [
    "LAC12_CDS_r, LAC12_CDS_f = pydna.parse('''\n",
    ">760_KlLAC12_rv (20-mer)\n",
    "ttaaacagattctgcctctg\n",
    "\n",
    ">759_KlLAC12_fw (19-mer)\n",
    "aaatggcagatcattcgag''')"
   ]
  },
  {
   "cell_type": "code",
   "execution_count": 34,
   "metadata": {
    "collapsed": false
   },
   "outputs": [],
   "source": [
    "LAC12_prd = pydna.pcr(LAC12_CDS_f,LAC12_CDS_r, lac12)"
   ]
  },
  {
   "cell_type": "code",
   "execution_count": 35,
   "metadata": {
    "collapsed": false
   },
   "outputs": [],
   "source": [
    "pYPKa_A_LAC12 = (pYPKa_A + LAC12_prd).looped().synced(pYPKa)"
   ]
  },
  {
   "cell_type": "markdown",
   "metadata": {},
   "source": [
    "The pYPKa vector is also used to clone the promoter and terminator sequences, but other restriction sites will be used. We will use the three strong glycolytic promoters TPI1, PGI1 and PDC1 from Saccharomyces cerevisiae. We specify tails that will introduce useful restriction sites. These intergenic sequences are also fetched from genbank."
   ]
  },
  {
   "cell_type": "code",
   "execution_count": 36,
   "metadata": {
    "collapsed": false
   },
   "outputs": [
    {
     "data": {
      "text/html": [
       "Amplicon(596)"
      ],
      "text/plain": [
       "Amplicon(596)"
      ]
     },
     "execution_count": 36,
     "metadata": {},
     "output_type": "execute_result"
    }
   ],
   "source": [
    "tpi = gb.nucleotide('BK006938.2 REGION: complement(556473..557055)')\n",
    "tpif, tpir = pydna.cloning_primers(tpi, fp_tail=\"TTAAAT\", rp_tail=\"TAATTAA\")\n",
    "tpi_prd = pydna.pcr(tpif, tpir, tpi)\n",
    "tpi_prd"
   ]
  },
  {
   "cell_type": "code",
   "execution_count": 37,
   "metadata": {
    "collapsed": false
   },
   "outputs": [
    {
     "data": {
      "text/html": [
       "Amplicon(1013)"
      ],
      "text/plain": [
       "Amplicon(1013)"
      ]
     },
     "execution_count": 37,
     "metadata": {},
     "output_type": "execute_result"
    }
   ],
   "source": [
    "pgi = gb.nucleotide('BK006936.2 REGION: complement(613901..614900)')\n",
    "pgif, pgir = pydna.cloning_primers(pgi, fp_tail=\"TTAAAT\", rp_tail=\"TAATTAA\")\n",
    "pgi_prd = pydna.pcr(pgif, pgir, pgi)\n",
    "pgi_prd"
   ]
  },
  {
   "cell_type": "code",
   "execution_count": 38,
   "metadata": {
    "collapsed": false
   },
   "outputs": [
    {
     "data": {
      "text/html": [
       "Amplicon(969)"
      ],
      "text/plain": [
       "Amplicon(969)"
      ]
     },
     "execution_count": 38,
     "metadata": {},
     "output_type": "execute_result"
    }
   ],
   "source": [
    "pdc = gb.nucleotide('BK006945.2 REGION: complement(234082..235036)')\n",
    "pdcf, pdcr = pydna.cloning_primers(pdc, fp_tail=\"TTAAATa\", rp_tail=\"TAATTAA\")\n",
    "pdc_prd = pydna.pcr(pdcf, pdcr, pdc)\n",
    "pdc_prd"
   ]
  },
  {
   "cell_type": "code",
   "execution_count": 39,
   "metadata": {
    "collapsed": false
   },
   "outputs": [],
   "source": [
    "from Bio.Restriction import ZraI\n",
    "pYPKa_Z = pYPKa.linearize(ZraI)"
   ]
  },
  {
   "cell_type": "markdown",
   "metadata": {},
   "source": [
    "We clone the PGI and PDC promoters in the [ZraI](http://rebase.neb.com/rebase/enz/ZraI.html) site. This site is located a short distance before the AjiI site."
   ]
  },
  {
   "cell_type": "code",
   "execution_count": 40,
   "metadata": {
    "collapsed": false
   },
   "outputs": [],
   "source": [
    "pYPKa_Z_PGI1 = (pYPKa_Z + pgi_prd).looped().synced(pYPKa)"
   ]
  },
  {
   "cell_type": "code",
   "execution_count": 41,
   "metadata": {
    "collapsed": false
   },
   "outputs": [],
   "source": [
    "pYPKa_Z_PDC1 = (pYPKa_Z + pdc_prd).looped().synced(pYPKa)"
   ]
  },
  {
   "cell_type": "code",
   "execution_count": 42,
   "metadata": {
    "collapsed": false
   },
   "outputs": [],
   "source": [
    "from Bio.Restriction import EcoRV\n",
    "pYPKa_E = pYPKa.linearize(EcoRV)"
   ]
  },
  {
   "cell_type": "markdown",
   "metadata": {},
   "source": [
    "We clone the PGI and TPI promoters in the [EcoRV](http://rebase.neb.com/rebase/enz/EcoRV.html) site. This site is located a short distance after the AjiI site."
   ]
  },
  {
   "cell_type": "code",
   "execution_count": 43,
   "metadata": {
    "collapsed": false
   },
   "outputs": [],
   "source": [
    "pYPKa_E_TPI1 = (pYPKa_E + tpi_prd).looped().synced(pYPKa)"
   ]
  },
  {
   "cell_type": "code",
   "execution_count": 44,
   "metadata": {
    "collapsed": false
   },
   "outputs": [],
   "source": [
    "pYPKa_E_PGI1 = (pYPKa_E + pgi_prd).looped().synced(pYPKa)"
   ]
  },
  {
   "cell_type": "markdown",
   "metadata": {},
   "source": [
    "We have now created six new E. coli plasmid constructs.\n",
    "\n",
    "For the cloning of expression cassettes, we will use a derivative of pYPKa called pYPKpw that can replicate in Saccharomyces cerevisiae. This is important since in-vivo gap repair will be used. The pYPKpw is not available from Genbank, but it is based on the pSU0 and pCAPS vectors. The cell below describes the pYPKpw vector:"
   ]
  },
  {
   "cell_type": "code",
   "execution_count": 45,
   "metadata": {
    "collapsed": false
   },
   "outputs": [],
   "source": [
    "pSU0 = gb.nucleotide(\"AB215109\")\n",
    "primers = pydna.parse('''\n",
    ">470_pSU0f-dEcoRV (50-mer)\n",
    "gtttactaaaaacacatgtggatattttgactgatttttccatggagggc\n",
    ">469_pSU0r-dEcoRV (50-mer)\n",
    "gccctccatggaaaaatcagtcaaaatatccacatgtgtttttagtaaac''', ds=False)\n",
    "pSU0_EcoRV = pydna.pcr( primers, pSU0)[50:].looped().synced(\"ggatccatcggaattcatattgaaaaagga\")\n",
    "from Bio.Restriction import BamHI, EcoRI, PvuI\n",
    "psu, stuffer = pSU0_EcoRV.cut(BamHI, EcoRI)\n",
    "pCAPs = gb.nucleotide(\"AJ001614.1\")\n",
    "pcaps = pCAPs.cut(PvuI).pop()\n",
    "asm = pydna.Assembly((psu, pcaps), limit=200)\n",
    "pYPK0 = asm.circular_products[0]\n",
    "primers = pydna.parse('''\n",
    ">pYPKpwR\n",
    "GCATGACGTCaccagacgctatgactcacccggacggca\n",
    ">pYPKpwF\n",
    "GCATGATATCttcacaggcggttttcgcacgtacccatg''', ds=False)\n",
    "seq = pydna.pcr(primers, pYPK0)\n",
    "seq = seq.looped()\n",
    "pYPKpw = seq.synced(pYPK0)"
   ]
  },
  {
   "cell_type": "markdown",
   "metadata": {},
   "source": [
    "The in vivo gap repair will join genes, promoters and terminators together, three and three. A set of standard primers numbered 468 to 578 will be used to produce PCR products with compatible flanking sequences. \n",
    "\n",
    "The locations of standard primers on the pYPKa vector.\n",
    "\n",
    "                                 >-gene-->\n",
    "                >-TP-->           \\     /           >-TP-->\n",
    "                 \\   /             \\   /             \\   /\n",
    "                  \\ /               \\ /               \\ /\n",
    "                   |                 |                 |\n",
    "     577>      775>| 468>       <567 | 568>       <467 |<778    <578 \n",
    "     |||       ||| | |||         ||| | |||         ||| | |||     |||    \n",
    "     --------------Z-----------------A-----------------E---------------------\n",
    "    |              r                 j                 c                     |\n",
    "    |              a                 i                 o                     |\n",
    "    |              I                 I                 R                     |\n",
    "    |                                                  V                     |\n",
    "     --------------------- pYPKa / pYPK0 ------------------------------------\n",
    "     \n",
    "These primers are initiated below:"
   ]
  },
  {
   "cell_type": "code",
   "execution_count": 46,
   "metadata": {
    "collapsed": false
   },
   "outputs": [],
   "source": [
    "p577, p567, p468, p467, p568, p578, p775, p778 =  pydna.parse(''' \n",
    ">577_crp585-557 (29-mer)\n",
    "gttctgatcctcgagcatcttaagaattc\n",
    ">567_pCAPsAjiIF (23-mer)\n",
    "GTcggctgcaggtcactagtgag\n",
    ">468_pCAPs_release_fw (25-mer) 79.66\n",
    "gtcgaggaacgccaggttgcccact\n",
    ">467_pCAPs_release_re (31-mer) \n",
    "ATTTAAatcctgatgcgtttgtctgcacaga\n",
    ">568_pCAPsAjiIR (22-mer)\n",
    "GTGCcatctgtgcagacaaacg\n",
    ">578_crp42-70 (29-mer)\n",
    "gttcttgtctcattgccacattcataagt\n",
    ">775_tp_ZraI_fwd (18-mer)\n",
    "gcggccgctgacTTAAAT\n",
    ">778_tp_Eco32I_rev (20-mer)\n",
    "ggtaaatccggatTAATTAA\n",
    "''', ds=False)"
   ]
  },
  {
   "cell_type": "markdown",
   "metadata": {},
   "source": [
    "The pYPKpw is digested with EcoRV prior to gap repair."
   ]
  },
  {
   "cell_type": "code",
   "execution_count": 47,
   "metadata": {
    "collapsed": false
   },
   "outputs": [],
   "source": [
    "pYPKpw_E = pYPKpw.linearize(EcoRV)"
   ]
  },
  {
   "cell_type": "markdown",
   "metadata": {},
   "source": [
    "Three PCR products are made using the standard primers, mixed with a linear vector and assembled by gap repair."
   ]
  },
  {
   "cell_type": "code",
   "execution_count": 48,
   "metadata": {
    "collapsed": false
   },
   "outputs": [],
   "source": [
    "first, middle, last = pYPKa_Z_PDC1, pYPKa_A_LAC4, pYPKa_E_PGI1\n",
    "\n",
    "first  = pydna.pcr( p577, p567, first)\n",
    "\n",
    "middle = pydna.pcr( p468, p467, middle)\n",
    "\n",
    "last   = pydna.pcr( p568, p578, last)\n",
    "\n",
    "asm = pydna.Assembly(( pYPKpw_E, first, middle, last ))"
   ]
  },
  {
   "cell_type": "markdown",
   "metadata": {},
   "source": [
    "Only one circular product is formed"
   ]
  },
  {
   "cell_type": "code",
   "execution_count": 49,
   "metadata": {
    "collapsed": false
   },
   "outputs": [
    {
     "data": {
      "text/plain": [
       "Assembly:\n",
       "Sequences........................: [5603] [1187] [3167] [1339]\n",
       "Sequences with shared homologies.: [5603] [1187] [1339] [3167]\n",
       "Homology limit (bp)..............: 25\n",
       "Number of overlaps...............: 4\n",
       "Nodes in graph(incl. 5' & 3')....: 6\n",
       "Only terminal overlaps...........: No\n",
       "Circular products................: [10824]\n",
       "Linear products..................: [11068] [10965] [10874] [10861] [9828] [9766] [7744] [6698] [6649] [5606] [4469] [4304] [244] [141] [50] [37]"
      ]
     },
     "execution_count": 49,
     "metadata": {},
     "output_type": "execute_result"
    }
   ],
   "source": [
    "asm"
   ]
  },
  {
   "cell_type": "code",
   "execution_count": 50,
   "metadata": {
    "collapsed": false
   },
   "outputs": [],
   "source": [
    "pYPK0_PDC1_KlLAC4_PGI1 = asm.circular_products[0]"
   ]
  },
  {
   "cell_type": "markdown",
   "metadata": {},
   "source": [
    "The PCR products assembles as expected. In the figure below, the LAC4 gene is the 3167 bp fragment in the middle."
   ]
  },
  {
   "cell_type": "code",
   "execution_count": 51,
   "metadata": {
    "collapsed": false
   },
   "outputs": [
    {
     "data": {
      "text/plain": [
       " -|5603bp_PCR_prod|124\n",
       "|                  \\/\n",
       "|                  /\\\n",
       "|                  124|1187bp_PCR_prod|50\n",
       "|                                      \\/\n",
       "|                                      /\\\n",
       "|                                      50|3167bp_PCR_prod|37\n",
       "|                                                         \\/\n",
       "|                                                         /\\\n",
       "|                                                         37|1339bp_PCR_prod|242\n",
       "|                                                                            \\/\n",
       "|                                                                            /\\\n",
       "|                                                                            242-\n",
       "|                                                                               |\n",
       " -------------------------------------------------------------------------------"
      ]
     },
     "execution_count": 51,
     "metadata": {},
     "output_type": "execute_result"
    }
   ],
   "source": [
    "pYPK0_PDC1_KlLAC4_PGI1.small_fig()"
   ]
  },
  {
   "cell_type": "markdown",
   "metadata": {},
   "source": [
    "We make a similar vector for the LAC12 gene. "
   ]
  },
  {
   "cell_type": "code",
   "execution_count": 52,
   "metadata": {
    "collapsed": false
   },
   "outputs": [],
   "source": [
    "first, middle, last = pYPKa_Z_PGI1, pYPKa_A_LAC12, pYPKa_E_TPI1\n",
    "\n",
    "first  = pydna.pcr( p577, p567, first)\n",
    "\n",
    "middle = pydna.pcr( p468, p467, middle)\n",
    "\n",
    "last   = pydna.pcr( p568, p578, last)\n",
    "\n",
    "asm = pydna.Assembly(( pYPKpw_E, first, middle, last ))"
   ]
  },
  {
   "cell_type": "code",
   "execution_count": 53,
   "metadata": {
    "collapsed": false
   },
   "outputs": [
    {
     "data": {
      "text/plain": [
       "Assembly:\n",
       "Sequences........................: [5603] [1231] [1853] [922]\n",
       "Sequences with shared homologies.: [5603] [1231] [922] [1853]\n",
       "Homology limit (bp)..............: 25\n",
       "Number of overlaps...............: 4\n",
       "Nodes in graph(incl. 5' & 3')....: 6\n",
       "Only terminal overlaps...........: No\n",
       "Circular products................: [9137]\n",
       "Linear products..................: [9381] [9278] [9187] [9174] [8496] [8097] [7371] [6693] [6281] [3919] [3034] [2738] [244] [141] [50] [37]"
      ]
     },
     "execution_count": 53,
     "metadata": {},
     "output_type": "execute_result"
    }
   ],
   "source": [
    "asm"
   ]
  },
  {
   "cell_type": "code",
   "execution_count": 54,
   "metadata": {
    "collapsed": false
   },
   "outputs": [],
   "source": [
    "pYPK0_PGI1_KlLAC12_TPI1 = asm.circular_products[0]"
   ]
  },
  {
   "cell_type": "markdown",
   "metadata": {},
   "source": [
    "The 1853 bp fragment is the LAC12 gene."
   ]
  },
  {
   "cell_type": "code",
   "execution_count": 55,
   "metadata": {
    "collapsed": false
   },
   "outputs": [
    {
     "data": {
      "text/plain": [
       " -|5603bp_PCR_prod|124\n",
       "|                  \\/\n",
       "|                  /\\\n",
       "|                  124|1231bp_PCR_prod|50\n",
       "|                                      \\/\n",
       "|                                      /\\\n",
       "|                                      50|1853bp_PCR_prod|37\n",
       "|                                                         \\/\n",
       "|                                                         /\\\n",
       "|                                                         37|922bp_PCR_prod|242\n",
       "|                                                                           \\/\n",
       "|                                                                           /\\\n",
       "|                                                                           242-\n",
       "|                                                                              |\n",
       " ------------------------------------------------------------------------------"
      ]
     },
     "execution_count": 55,
     "metadata": {},
     "output_type": "execute_result"
    }
   ],
   "source": [
    "pYPK0_PGI1_KlLAC12_TPI1.small_fig()"
   ]
  },
  {
   "cell_type": "code",
   "execution_count": 56,
   "metadata": {
    "collapsed": false
   },
   "outputs": [],
   "source": [
    "pYPK0_PGI1_KlLAC12_TPI1 = pYPK0_PGI1_KlLAC12_TPI1.synced(pYPKa)"
   ]
  },
  {
   "cell_type": "markdown",
   "metadata": {},
   "source": [
    "The two separate constructs containing LAC4 and LAC12 can be joined together since the teminator for the LAC4 gene is the same sequence as the promoter for the LAC12 gene. Both promoter gene terminator cassettes can be amplified and joined through this shared sequence. The PCR primer pair below are used to amplify the promoter-gene-terminato cassette from each construct."
   ]
  },
  {
   "cell_type": "code",
   "execution_count": 57,
   "metadata": {
    "collapsed": false
   },
   "outputs": [],
   "source": [
    "A,B = pYPK0_PDC1_KlLAC4_PGI1, pYPK0_PGI1_KlLAC12_TPI1\n",
    "\n",
    "cas1  = pydna.pcr( p577, p778, A)\n",
    "cas2  = pydna.pcr( p775, p578, B)"
   ]
  },
  {
   "cell_type": "code",
   "execution_count": 58,
   "metadata": {
    "collapsed": false
   },
   "outputs": [],
   "source": [
    "asm = pydna.Assembly( (pYPKpw_E, cas1, cas2), limit=61 )"
   ]
  },
  {
   "cell_type": "markdown",
   "metadata": {},
   "source": [
    "Three circular products are formed."
   ]
  },
  {
   "cell_type": "code",
   "execution_count": 59,
   "metadata": {
    "collapsed": false
   },
   "outputs": [
    {
     "data": {
      "text/plain": [
       "Assembly:\n",
       "Sequences........................: [5603] [5324] [3763]\n",
       "Sequences with shared homologies.: [5603] [5324] [3763]\n",
       "Homology limit (bp)..............: 61\n",
       "Number of overlaps...............: 4\n",
       "Nodes in graph(incl. 5' & 3')....: 6\n",
       "Only terminal overlaps...........: No\n",
       "Circular products................: [13267] [9093] [4174]\n",
       "Linear products..................: [14305] [13511] [13408] [10786] [9498] [9337] [9234] [9122] [8049] [7937] [5212] [3875] [1038] [244] [141]"
      ]
     },
     "execution_count": 59,
     "metadata": {},
     "output_type": "execute_result"
    }
   ],
   "source": [
    "asm"
   ]
  },
  {
   "cell_type": "markdown",
   "metadata": {},
   "source": [
    "The largest circular assembly product is the correct one (13267 bp). "
   ]
  },
  {
   "cell_type": "code",
   "execution_count": 60,
   "metadata": {
    "collapsed": false
   },
   "outputs": [],
   "source": [
    "pYPK0_PDC1_KlLAC4_PGI1_KlLAC12_TPI1 = asm.circular_products[0]"
   ]
  },
  {
   "cell_type": "code",
   "execution_count": 61,
   "metadata": {
    "collapsed": false
   },
   "outputs": [
    {
     "data": {
      "text/plain": [
       " -|5603bp_PCR_prod|124\n",
       "|                  \\/\n",
       "|                  /\\\n",
       "|                  124|5324bp_PCR_prod|1013\n",
       "|                                      \\/\n",
       "|                                      /\\\n",
       "|                                      1013|3763bp_PCR_prod|242\n",
       "|                                                           \\/\n",
       "|                                                           /\\\n",
       "|                                                           242-\n",
       "|                                                              |\n",
       " --------------------------------------------------------------"
      ]
     },
     "execution_count": 61,
     "metadata": {},
     "output_type": "execute_result"
    }
   ],
   "source": [
    "pYPK0_PDC1_KlLAC4_PGI1_KlLAC12_TPI1.small_fig()"
   ]
  },
  {
   "cell_type": "code",
   "execution_count": 62,
   "metadata": {
    "collapsed": false
   },
   "outputs": [],
   "source": [
    "pYPK0_PDC1_KlLAC4_PGI1_KlLAC12_TPI1 = pYPK0_PDC1_KlLAC4_PGI1_KlLAC12_TPI1.synced(pYPKa)"
   ]
  },
  {
   "cell_type": "code",
   "execution_count": 63,
   "metadata": {
    "collapsed": false
   },
   "outputs": [
    {
     "data": {
      "text/plain": [
       "Dseqrecord(o13267)"
      ]
     },
     "execution_count": 63,
     "metadata": {},
     "output_type": "execute_result"
    }
   ],
   "source": [
    "pYPK0_PDC1_KlLAC4_PGI1_KlLAC12_TPI1\n"
   ]
  },
  {
   "cell_type": "markdown",
   "metadata": {},
   "source": [
    "However the smaller products are also important as they might show up as background in the gap repair process. The next largest circular ptroduct is the one below. There is a 65 bp internal homology between the cassettes that might alternatively be formed. This has a lower probability, since the 1013 bp sequence in the previous figure has to be removed bu the DNA repair machinery for this to occur. "
   ]
  },
  {
   "cell_type": "code",
   "execution_count": 64,
   "metadata": {
    "collapsed": false
   },
   "outputs": [
    {
     "data": {
      "text/plain": [
       " -|5603bp_PCR_prod|124\n",
       "|                  \\/\n",
       "|                  /\\\n",
       "|                  124|5324bp_PCR_prod|65\n",
       "|                                      \\/\n",
       "|                                      /\\\n",
       "|                                      65|3763bp_PCR_prod|242\n",
       "|                                                         \\/\n",
       "|                                                         /\\\n",
       "|                                                         242-\n",
       "|                                                            |\n",
       " ------------------------------------------------------------"
      ]
     },
     "execution_count": 64,
     "metadata": {},
     "output_type": "execute_result"
    }
   ],
   "source": [
    "asm.circular_products[1].small_fig()"
   ]
  },
  {
   "cell_type": "markdown",
   "metadata": {},
   "source": [
    "The smallest circular recombination product is shown below. This product involves only the PCR products and not the 5603 bp vector. If the PCR products contain sequences for maintenance and selection in S. cerevisiae, this would be the dominant recombination product as only two fragments are required. In this case, this will not happen as the recombination products are selected for uracile prototophy. The URA3 gene and 2µ sequence for replication are both present on the vector. "
   ]
  },
  {
   "cell_type": "code",
   "execution_count": 65,
   "metadata": {
    "collapsed": false
   },
   "outputs": [
    {
     "data": {
      "text/plain": [
       " -|5324bp_PCR_prod|1013\n",
       "|                  \\/\n",
       "|                  /\\\n",
       "|                  1013|3763bp_PCR_prod|65\n",
       "|                                       \\/\n",
       "|                                       /\\\n",
       "|                                       65-\n",
       "|                                          |\n",
       " ------------------------------------------"
      ]
     },
     "execution_count": 65,
     "metadata": {},
     "output_type": "execute_result"
    }
   ],
   "source": [
    "asm.circular_products[2].small_fig()"
   ]
  },
  {
   "cell_type": "markdown",
   "metadata": {},
   "source": [
    "This cloning strategy was carried out in the wet lab and the correct product 13267 bp product was indeed the predominant recombination product."
   ]
  },
  {
   "cell_type": "markdown",
   "metadata": {},
   "source": [
    "## Confirmation by restriction digestion"
   ]
  },
  {
   "cell_type": "markdown",
   "metadata": {},
   "source": [
    "Three clones of the final vector were digested with [EcoRI](http://rebase.neb.com/rebase/enz/EcoRI.html)."
   ]
  },
  {
   "cell_type": "code",
   "execution_count": 66,
   "metadata": {
    "collapsed": false
   },
   "outputs": [],
   "source": [
    "from Bio.Restriction import EcoRI"
   ]
  },
  {
   "cell_type": "markdown",
   "metadata": {},
   "source": [
    "The lengths of fragments expected to form can be easily calculated using the [list comprehension](\"https://docs.python.org/2/tutorial/datastructures.html#list-comprehensions\") below."
   ]
  },
  {
   "cell_type": "code",
   "execution_count": 67,
   "metadata": {
    "collapsed": false
   },
   "outputs": [
    {
     "data": {
      "text/plain": [
       "[124, 883, 2234, 2937, 7109]"
      ]
     },
     "execution_count": 67,
     "metadata": {},
     "output_type": "execute_result"
    }
   ],
   "source": [
    "[ len(x) for x in sorted( pYPK0_PDC1_KlLAC4_PGI1_KlLAC12_TPI1.cut(EcoRI), key=len ) ]"
   ]
  },
  {
   "cell_type": "code",
   "execution_count": 68,
   "metadata": {
    "collapsed": false
   },
   "outputs": [],
   "source": [
    "from IPython.display import Image"
   ]
  },
  {
   "cell_type": "markdown",
   "metadata": {},
   "source": [
    "The IPython notebook can display images. The Lac4_Lac12_EcoRI.jpg file is a local image file of a EcoRI digestion of three clones of the final construct pYPK0_PDC1_KlLAC4_PGI1_KlLAC12_TPI1.\n",
    "\n",
    "Loaded from left:\n",
    "1.  [Generuler 1kb ladder](http://www.thermoscientificbio.com/nucleic-acid-electrophoresis/generuler-1-kb-dna-ladder-250-to-10000-bp/)\n",
    "2.  empty\n",
    "3.  pYPK0_PDC1_KlLAC4_PGI1_KlLAC12_TPI1 clone #1\n",
    "4.  pYPK0_PDC1_KlLAC4_PGI1_KlLAC12_TPI1 clone #2\n",
    "5.  pYPK0_PDC1_KlLAC4_PGI1_KlLAC12_TPI1 clone #3\n",
    "\n",
    "The three largest bands (2234, 2937, 7109) are visible in the three rightmost lanes in the gel below. "
   ]
  },
  {
   "cell_type": "code",
   "execution_count": 69,
   "metadata": {
    "collapsed": false
   },
   "outputs": [
    {
     "data": {
      "image/jpeg": "[encoded data removed]",
      "text/plain": [
       "<IPython.core.display.Image object>"
      ]
     },
     "execution_count": 69,
     "metadata": {},
     "output_type": "execute_result"
    }
   ],
   "source": [
    "Image('Lac4_Lac12_EcoRI.jpg')"
   ]
  },
  {
   "cell_type": "markdown",
   "metadata": {},
   "source": [
    "The molecular weight marker used is displayed below."
   ]
  },
  {
   "cell_type": "code",
   "execution_count": 70,
   "metadata": {
    "collapsed": false
   },
   "outputs": [
    {
     "data": {
      "image/jpeg": "[encoded data removed]",
      "text/plain": [
       "<IPython.core.display.Image object>"
      ]
     },
     "execution_count": 70,
     "metadata": {},
     "output_type": "execute_result"
    }
   ],
   "source": [
    "Image(\"sm031_fam.jpg\")"
   ]
  },
  {
   "cell_type": "code",
   "execution_count": 71,
   "metadata": {
    "collapsed": false
   },
   "outputs": [
    {
     "data": {
      "text/plain": [
       "cSEGUID_yljyOOnc6_A44a08BJ3D0AKiBfk_2017-01-12T09:43:41.347064"
      ]
     },
     "execution_count": 71,
     "metadata": {},
     "output_type": "execute_result"
    }
   ],
   "source": [
    "pYPK0_PDC1_KlLAC4_PGI1_KlLAC12_TPI1.stamp()"
   ]
  },
  {
   "cell_type": "code",
   "execution_count": 72,
   "metadata": {
    "collapsed": false
   },
   "outputs": [
    {
     "data": {
      "text/html": [
       "<font face=monospace><a href='pYPK0_PDC1_KlLAC4_PGI1_KlLAC12_TPI1.gb' target='_blank'>pYPK0_PDC1_KlLAC4_PGI1_KlLAC12_TPI1.gb</a></font><br>"
      ],
      "text/plain": [
       "<IPython.core.display.HTML object>"
      ]
     },
     "metadata": {},
     "output_type": "display_data"
    }
   ],
   "source": [
    "pYPK0_PDC1_KlLAC4_PGI1_KlLAC12_TPI1.write(\"pYPK0_PDC1_KlLAC4_PGI1_KlLAC12_TPI1.gb\")"
   ]
  }
 ],
 "metadata": {
  "anaconda-cloud": {},
  "kernelspec": {
   "display_name": "Python 3",
   "language": "python",
   "name": "python3"
  },
  "language_info": {
   "codemirror_mode": {
    "name": "ipython",
    "version": 3
   },
   "file_extension": ".py",
   "mimetype": "text/x-python",
   "name": "python",
   "nbconvert_exporter": "python",
   "pygments_lexer": "ipython3",
   "version": "3.5.2"
  }
 },
 "nbformat": 4,
 "nbformat_minor": 0
}
